{
 "cells": [
  {
   "cell_type": "code",
   "execution_count": 1,
   "metadata": {},
   "outputs": [],
   "source": [
    "from classes.fantasy import Character\n",
    "player = Character()"
   ]
  },
  {
   "cell_type": "code",
   "execution_count": 150,
   "metadata": {},
   "outputs": [
    {
     "data": {
      "text/plain": [
       "(True, 'AGI is increased 10!')"
      ]
     },
     "execution_count": 150,
     "metadata": {},
     "output_type": "execute_result"
    }
   ],
   "source": [
    "player.upgrade('agi',10)"
   ]
  },
  {
   "cell_type": "code",
   "execution_count": 151,
   "metadata": {},
   "outputs": [
    {
     "name": "stdout",
     "output_type": "stream",
     "text": [
      "(0, 342, ('MP', 0.001), ('PR', 0), None)\n"
     ]
    },
    {
     "data": {
      "text/plain": [
       "═══════════ Character Information ═══════════\n",
       "                \n",
       "Level: 3 (1000/3600 XP)            \n",
       "Limited XP: 0            \n",
       "Cash: 108,592            \n",
       "Status: 854            \n",
       "Spirit: 30 XP\n",
       "                \n",
       "HP: 0520\tSTR: 0210\tPR: 0032             \n",
       "MP: 0290\tAGI: 0188\tCR: 0001\n",
       "                \n",
       "═════════════════════════════════════════════"
      ]
     },
     "execution_count": 151,
     "metadata": {},
     "output_type": "execute_result"
    }
   ],
   "source": [
    "print(player.train())\n",
    "player\n"
   ]
  },
  {
   "cell_type": "code",
   "execution_count": 149,
   "metadata": {},
   "outputs": [
    {
     "name": "stdout",
     "output_type": "stream",
     "text": [
      "(0, 945, ('AGI', 0.001), ('CR', 0), None)\n"
     ]
    },
    {
     "data": {
      "text/plain": [
       "═══════════ Character Information ═══════════\n",
       "                \n",
       "Level: 3 (1000/3600 XP)            \n",
       "Limited XP: 0            \n",
       "Cash: 108,250            \n",
       "Status: 855            \n",
       "Spirit: 30 XP\n",
       "                \n",
       "HP: 0520\tSTR: 0210\tPR: 0032             \n",
       "MP: 0290\tAGI: 0148\tCR: 0001\n",
       "                \n",
       "═════════════════════════════════════════════"
      ]
     },
     "execution_count": 149,
     "metadata": {},
     "output_type": "execute_result"
    }
   ],
   "source": [
    "print(player.train())\n",
    "player\n"
   ]
  }
 ],
 "metadata": {
  "kernelspec": {
   "display_name": "base",
   "language": "python",
   "name": "python3"
  },
  "language_info": {
   "codemirror_mode": {
    "name": "ipython",
    "version": 3
   },
   "file_extension": ".py",
   "mimetype": "text/x-python",
   "name": "python",
   "nbconvert_exporter": "python",
   "pygments_lexer": "ipython3",
   "version": "3.9.12"
  }
 },
 "nbformat": 4,
 "nbformat_minor": 2
}
